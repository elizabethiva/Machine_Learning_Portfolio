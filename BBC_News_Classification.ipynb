{
  "nbformat": 4,
  "nbformat_minor": 0,
  "metadata": {
    "colab": {
      "provenance": [],
      "authorship_tag": "ABX9TyPnAP3G/URu8T2Rpwb+Fvq8",
      "include_colab_link": true
    },
    "kernelspec": {
      "name": "python3",
      "display_name": "Python 3"
    },
    "language_info": {
      "name": "python"
    }
  },
  "cells": [
    {
      "cell_type": "markdown",
      "metadata": {
        "id": "view-in-github",
        "colab_type": "text"
      },
      "source": [
        "<a href=\"https://colab.research.google.com/github/elizabethiva/Machine_Learning_Portfolio/blob/main/BBC_News_Classification.ipynb\" target=\"_parent\"><img src=\"https://colab.research.google.com/assets/colab-badge.svg\" alt=\"Open In Colab\"/></a>"
      ]
    },
    {
      "cell_type": "markdown",
      "source": [
        "# BBC News Classification\n",
        "The goal of this project is to build a system capable of accurately classifying previously unseen news articles into the correct category.\n",
        "In this project, we utilize the [BBC News Classification Dataset](https://www.kaggle.com/c/learn-ai-bbc/overview), which comprises 2225 instances of news articles along with their corresponding labels."
      ],
      "metadata": {
        "id": "d1s7ILbEUo5F"
      }
    },
    {
      "cell_type": "code",
      "execution_count": 42,
      "metadata": {
        "id": "MvIWhYBQy26N"
      },
      "outputs": [],
      "source": [
        "import requests\n",
        "import io\n",
        "import csv\n",
        "import tensorflow as tf\n",
        "import numpy as np\n",
        "from tensorflow.keras.preprocessing.text import Tokenizer\n",
        "from tensorflow.keras.preprocessing.sequence import pad_sequences\n",
        "import matplotlib.pyplot as plt"
      ]
    },
    {
      "cell_type": "code",
      "source": [
        "# Get BBC News Classification Dataset\n",
        "url = 'https://raw.githubusercontent.com/elizabethiva/Machine_Learning_Portfolio/main/data/bbc-text.csv'"
      ],
      "metadata": {
        "id": "2EzsZb9dNJyT"
      },
      "execution_count": 43,
      "outputs": []
    },
    {
      "cell_type": "code",
      "source": [
        "# Download the content of the CSV file\n",
        "response = requests.get(url)\n",
        "csv_content = response.text\n",
        "\n",
        "# Split the content into lines\n",
        "csv_lines = csv_content.split('\\n')\n",
        "\n",
        "# Path to the file where the dataset will be saved\n",
        "bbc_text = 'bbc-text.csv'\n",
        "\n",
        "# Save the dataset to a CSV file\n",
        "with open(bbc_text, 'w') as csv_file:\n",
        "    csv_file.write(csv_content)"
      ],
      "metadata": {
        "id": "jCJB3dCSNxOH"
      },
      "execution_count": 44,
      "outputs": []
    },
    {
      "cell_type": "markdown",
      "source": [
        "By running the cell below, you can see what the dataset looks like."
      ],
      "metadata": {
        "id": "xA8qR6sNUztB"
      }
    },
    {
      "cell_type": "code",
      "source": [
        "with open(bbc_text, 'r') as csvfile:\n",
        "    print(f\"First line (header) looks like this:\\n\\n{csvfile.readline()}\")\n",
        "    print(f\"Each data point looks like this:\\n\\n{csvfile.readline()}\")"
      ],
      "metadata": {
        "colab": {
          "base_uri": "https://localhost:8080/"
        },
        "id": "5feXN0ayzI_i",
        "outputId": "08588a51-dcdb-4af3-a5d0-998c4d5139d0"
      },
      "execution_count": 45,
      "outputs": [
        {
          "output_type": "stream",
          "name": "stdout",
          "text": [
            "First line (header) looks like this:\n",
            "\n",
            "category,text\n",
            "\n",
            "Each data point looks like this:\n",
            "\n",
            "tech,tv future in the hands of viewers with home theatre systems  plasma high-definition tvs  and digital video recorders moving into the living room  the way people watch tv will be radically different in five years  time.  that is according to an expert panel which gathered at the annual consumer electronics show in las vegas to discuss how these new technologies will impact one of our favourite pastimes. with the us leading the trend  programmes and other content will be delivered to viewers via home networks  through cable  satellite  telecoms companies  and broadband service providers to front rooms and portable devices.  one of the most talked-about technologies of ces has been digital and personal video recorders (dvr and pvr). these set-top boxes  like the us s tivo and the uk s sky+ system  allow people to record  store  play  pause and forward wind tv programmes when they want.  essentially  the technology allows for much more personalised tv. they are also being built-in to high-definition tv sets  which are big business in japan and the us  but slower to take off in europe because of the lack of high-definition programming. not only can people forward wind through adverts  they can also forget about abiding by network and channel schedules  putting together their own a-la-carte entertainment. but some us networks and cable and satellite companies are worried about what it means for them in terms of advertising revenues as well as  brand identity  and viewer loyalty to channels. although the us leads in this technology at the moment  it is also a concern that is being raised in europe  particularly with the growing uptake of services like sky+.  what happens here today  we will see in nine months to a years  time in the uk   adam hume  the bbc broadcast s futurologist told the bbc news website. for the likes of the bbc  there are no issues of lost advertising revenue yet. it is a more pressing issue at the moment for commercial uk broadcasters  but brand loyalty is important for everyone.  we will be talking more about content brands rather than network brands   said tim hanlon  from brand communications firm starcom mediavest.  the reality is that with broadband connections  anybody can be the producer of content.  he added:  the challenge now is that it is hard to promote a programme with so much choice.   what this means  said stacey jolna  senior vice president of tv guide tv group  is that the way people find the content they want to watch has to be simplified for tv viewers. it means that networks  in us terms  or channels could take a leaf out of google s book and be the search engine of the future  instead of the scheduler to help people find what they want to watch. this kind of channel model might work for the younger ipod generation which is used to taking control of their gadgets and what they play on them. but it might not suit everyone  the panel recognised. older generations are more comfortable with familiar schedules and channel brands because they know what they are getting. they perhaps do not want so much of the choice put into their hands  mr hanlon suggested.  on the other end  you have the kids just out of diapers who are pushing buttons already - everything is possible and available to them   said mr hanlon.  ultimately  the consumer will tell the market they want.   of the 50 000 new gadgets and technologies being showcased at ces  many of them are about enhancing the tv-watching experience. high-definition tv sets are everywhere and many new models of lcd (liquid crystal display) tvs have been launched with dvr capability built into them  instead of being external boxes. one such example launched at the show is humax s 26-inch lcd tv with an 80-hour tivo dvr and dvd recorder. one of the us s biggest satellite tv companies  directtv  has even launched its own branded dvr at the show with 100-hours of recording capability  instant replay  and a search function. the set can pause and rewind tv for up to 90 hours. and microsoft chief bill gates announced in his pre-show keynote speech a partnership with tivo  called tivotogo  which means people can play recorded programmes on windows pcs and mobile devices. all these reflect the increasing trend of freeing up multimedia so that people can watch what they want  when they want.\n",
            "\n"
          ]
        }
      ]
    },
    {
      "cell_type": "markdown",
      "source": [
        "# Defining useful global variables\n",
        "- `NUM_WORDS`: The maximum number of words to keep, based on word frequency. Defaults to 1000.\n",
        "\n",
        "\n",
        "- `EMBEDDING_DIM`: Dimension of the dense embedding, will be used in the embedding layer of the model. Defaults to 16.\n",
        "\n",
        "\n",
        "- `MAXLEN`: Maximum length of all sequences. Defaults to 120.\n",
        "\n",
        "\n",
        "- `PADDING`: Padding strategy. Defaults to 'post'.\n",
        "\n",
        "\n",
        "- `OOV_TOKEN`: Token to replace out-of-vocabulary words during text_to_sequence calls. Defaults to \"\\<OOV>\".\n",
        "\n",
        "    \n",
        "- `TRAINING_SPLIT`: Proportion of data used for training. Defaults to 0.8"
      ],
      "metadata": {
        "id": "8ViqJnKmVazN"
      }
    },
    {
      "cell_type": "code",
      "source": [
        "NUM_WORDS = 1000\n",
        "EMBEDDING_DIM = 16\n",
        "MAXLEN = 120\n",
        "PADDING = 'post'\n",
        "OOV_TOKEN = \"<OOV>\"\n",
        "TRAINING_SPLIT = .8"
      ],
      "metadata": {
        "id": "W35P-n5Jz2N7"
      },
      "execution_count": 46,
      "outputs": []
    },
    {
      "cell_type": "markdown",
      "source": [
        "# Loading and pre-processing the data\n",
        "The `remove_stopwords` function removes stopwords from the text, and the parse_data_from_file function extracts sentences and labels from a CSV file."
      ],
      "metadata": {
        "id": "cAtYq8ckV73E"
      }
    },
    {
      "cell_type": "code",
      "source": [
        "def remove_stopwords(sentence):\n",
        "    \"\"\"\n",
        "    Removes a list of stopwords\n",
        "\n",
        "    Args:\n",
        "        sentence (string): sentence to remove the stopwords from\n",
        "\n",
        "    Returns:\n",
        "        sentence (string): lowercase sentence without the stopwords\n",
        "    \"\"\"\n",
        "    # List of stopwords\n",
        "    stopwords = [\"a\", \"about\", \"above\", \"after\", \"again\", \"against\", \"all\", \"am\", \"an\", \"and\", \"any\", \"are\", \"as\", \"at\", \"be\", \"because\", \"been\", \"before\", \"being\", \"below\", \"between\", \"both\", \"but\", \"by\", \"could\", \"did\", \"do\", \"does\", \"doing\", \"down\", \"during\", \"each\", \"few\", \"for\", \"from\", \"further\", \"had\", \"has\", \"have\", \"having\", \"he\", \"he'd\", \"he'll\", \"he's\", \"her\", \"here\", \"here's\", \"hers\", \"herself\", \"him\", \"himself\", \"his\", \"how\", \"how's\", \"i\", \"i'd\", \"i'll\", \"i'm\", \"i've\", \"if\", \"in\", \"into\", \"is\", \"it\", \"it's\", \"its\", \"itself\", \"let's\", \"me\", \"more\", \"most\", \"my\", \"myself\", \"nor\", \"of\", \"on\", \"once\", \"only\", \"or\", \"other\", \"ought\", \"our\", \"ours\", \"ourselves\", \"out\", \"over\", \"own\", \"same\", \"she\", \"she'd\", \"she'll\", \"she's\", \"should\", \"so\", \"some\", \"such\", \"than\", \"that\", \"that's\", \"the\", \"their\", \"theirs\", \"them\", \"themselves\", \"then\", \"there\", \"there's\", \"these\", \"they\", \"they'd\", \"they'll\", \"they're\", \"they've\", \"this\", \"those\", \"through\", \"to\", \"too\", \"under\", \"until\", \"up\", \"very\", \"was\", \"we\", \"we'd\", \"we'll\", \"we're\", \"we've\", \"were\", \"what\", \"what's\", \"when\", \"when's\", \"where\", \"where's\", \"which\", \"while\", \"who\", \"who's\", \"whom\", \"why\", \"why's\", \"with\", \"would\", \"you\", \"you'd\", \"you'll\", \"you're\", \"you've\", \"your\", \"yours\", \"yourself\", \"yourselves\" ]\n",
        "\n",
        "    # Sentence converted to lowercase-only\n",
        "    sentence = sentence.lower()\n",
        "\n",
        "    words = sentence.split()\n",
        "    no_words = [w for w in words if w not in stopwords]\n",
        "    sentence = \" \".join(no_words)\n",
        "\n",
        "    return sentence\n",
        "\n",
        "\n",
        "def parse_data_from_file(filename):\n",
        "    \"\"\"\n",
        "    Extracts sentences and labels from a CSV file\n",
        "\n",
        "    Args:\n",
        "        filename (string): path to the CSV file\n",
        "\n",
        "    Returns:\n",
        "        sentences, labels (list of string, list of string): tuple containing lists of sentences and labels\n",
        "    \"\"\"\n",
        "    sentences = []\n",
        "    labels = []\n",
        "    with open(filename, 'r') as csvfile:\n",
        "        reader = csv.reader(csvfile, delimiter=',')\n",
        "        next(reader)\n",
        "        for row in reader:\n",
        "            labels.append(row[0])\n",
        "            sentence = row[1]\n",
        "            sentence = remove_stopwords(sentence)\n",
        "            sentences.append(sentence)\n",
        "\n",
        "    return sentences, labels"
      ],
      "metadata": {
        "id": "oJRBna9Cz8QK"
      },
      "execution_count": 47,
      "outputs": []
    },
    {
      "cell_type": "code",
      "source": [
        "sentences, labels = parse_data_from_file(bbc_text)\n"
      ],
      "metadata": {
        "id": "8JqJ_mADM93l"
      },
      "execution_count": 48,
      "outputs": []
    },
    {
      "cell_type": "markdown",
      "source": [
        "# Training - Validation Split\n",
        "The `train_val_split` function splits the full lists of sentences and labels into training and validation sentences and labels."
      ],
      "metadata": {
        "id": "8cz9TvkaXX2o"
      }
    },
    {
      "cell_type": "code",
      "source": [
        "def train_val_split(sentences, labels, training_split):\n",
        "    \"\"\"\n",
        "    Splits the dataset into training and validation sets\n",
        "\n",
        "    Args:\n",
        "        sentences (list of string): lower-cased sentences without stopwords\n",
        "        labels (list of string): list of labels\n",
        "        training split (float): proportion of the dataset to convert to include in the train set\n",
        "\n",
        "    Returns:\n",
        "        train_sentences, validation_sentences, train_labels, validation_labels - lists containing the data splits\n",
        "    \"\"\"\n",
        "\n",
        "    # Compute the number of sentences that will be used for training (should be an integer)\n",
        "    train_size = int(training_split * len(sentences))\n",
        "\n",
        "    # Split the sentences and labels into train/validation splits\n",
        "    train_sentences = sentences[:train_size]\n",
        "    train_labels = labels[:train_size]\n",
        "\n",
        "    validation_sentences = sentences[train_size:]\n",
        "    validation_labels = labels[train_size:]\n",
        "\n",
        "    return train_sentences, validation_sentences, train_labels, validation_labels"
      ],
      "metadata": {
        "id": "RWceti0j0SN0"
      },
      "execution_count": 49,
      "outputs": []
    },
    {
      "cell_type": "code",
      "source": [
        "train_sentences, val_sentences, train_labels, val_labels = train_val_split(sentences, labels, TRAINING_SPLIT)"
      ],
      "metadata": {
        "id": "zzVjOUz20Ur8"
      },
      "execution_count": 50,
      "outputs": []
    },
    {
      "cell_type": "markdown",
      "source": [
        "# Tokenization - Sequences and padding\n",
        "The `fit_tokenizer` function returns a Tokenizer that has been fitted to the training sentences."
      ],
      "metadata": {
        "id": "NiIOuJ6_XzUN"
      }
    },
    {
      "cell_type": "code",
      "source": [
        "def fit_tokenizer(train_sentences, num_words, oov_token):\n",
        "    \"\"\"\n",
        "    Instantiates the Tokenizer class on the training sentences\n",
        "\n",
        "    Args:\n",
        "        train_sentences (list of string): lower-cased sentences without stopwords to be used for training\n",
        "        num_words (int) - number of words to keep when tokenizing\n",
        "        oov_token (string) - symbol for the out-of-vocabulary token\n",
        "\n",
        "    Returns:\n",
        "        tokenizer (object): an instance of the Tokenizer class containing the word-index dictionary\n",
        "    \"\"\"\n",
        "\n",
        "    # Instantiate the Tokenizer class, passing in the correct values for num_words and oov_token\n",
        "    tokenizer = Tokenizer(num_words=num_words, oov_token=oov_token)\n",
        "\n",
        "    # Fit the tokenizer to the training sentences\n",
        "    tokenizer.fit_on_texts(train_sentences)\n",
        "\n",
        "    return tokenizer"
      ],
      "metadata": {
        "id": "6enIPLDY0Ysu"
      },
      "execution_count": 51,
      "outputs": []
    },
    {
      "cell_type": "code",
      "source": [
        "tokenizer = fit_tokenizer(train_sentences, NUM_WORDS, OOV_TOKEN)\n",
        "word_index = tokenizer.word_index"
      ],
      "metadata": {
        "id": "GHAZ3wl90tdo"
      },
      "execution_count": 61,
      "outputs": []
    },
    {
      "cell_type": "markdown",
      "source": [
        "The `seq_and_pad` function converts each text data point into its padded sequence representation."
      ],
      "metadata": {
        "id": "0PR5a-y6Z20I"
      }
    },
    {
      "cell_type": "code",
      "source": [
        "def seq_and_pad(sentences, tokenizer, padding, maxlen):\n",
        "    \"\"\"\n",
        "    Generates an array of token sequences and pads them to the same length\n",
        "\n",
        "    Args:\n",
        "        sentences (list of string): list of sentences to tokenize and pad\n",
        "        tokenizer (object): Tokenizer instance containing the word-index dictionary\n",
        "        padding (string): type of padding to use\n",
        "        maxlen (int): maximum length of the token sequence\n",
        "\n",
        "    Returns:\n",
        "        padded_sequences (array of int): tokenized sentences padded to the same length\n",
        "    \"\"\"\n",
        "\n",
        "    # Convert sentences to sequences\n",
        "    sequences = tokenizer.texts_to_sequences(sentences)\n",
        "\n",
        "    # Pad the sequences using the correct padding and maxlen\n",
        "    padded_sequences = pad_sequences(sequences, padding=padding, maxlen=maxlen)\n",
        "\n",
        "    return padded_sequences"
      ],
      "metadata": {
        "id": "TsadJO_T0gXC"
      },
      "execution_count": 53,
      "outputs": []
    },
    {
      "cell_type": "code",
      "source": [
        "train_padded_seq = seq_and_pad(train_sentences, tokenizer, PADDING, MAXLEN)\n",
        "val_padded_seq = seq_and_pad(val_sentences, tokenizer, PADDING, MAXLEN)"
      ],
      "metadata": {
        "id": "B9rXEASK0ysK"
      },
      "execution_count": 54,
      "outputs": []
    },
    {
      "cell_type": "markdown",
      "source": [
        "Finally we need to tokenize the labels."
      ],
      "metadata": {
        "id": "pB5dC9eJaI-3"
      }
    },
    {
      "cell_type": "code",
      "source": [
        "def tokenize_labels(all_labels, split_labels):\n",
        "    \"\"\"\n",
        "    Tokenizes the labels\n",
        "\n",
        "    Args:\n",
        "        all_labels (list of string): labels to generate the word-index from\n",
        "        split_labels (list of string): labels to tokenize\n",
        "\n",
        "    Returns:\n",
        "        label_seq_np (array of int): tokenized labels\n",
        "    \"\"\"\n",
        "\n",
        "    # Instantiate the Tokenizer (no additional arguments needed)\n",
        "    label_tokenizer = Tokenizer()\n",
        "\n",
        "    # Fit the tokenizer on all the labels\n",
        "    label_tokenizer.fit_on_texts(all_labels)\n",
        "\n",
        "    # Convert labels to sequences\n",
        "    label_seq = label_tokenizer.texts_to_sequences(split_labels)\n",
        "\n",
        "    # Convert sequences to a numpy array. Don't forget to substact 1 from every entry in the array!\n",
        "    label_seq_np = np.array(label_seq) - 1\n",
        "\n",
        "    return label_seq_np"
      ],
      "metadata": {
        "id": "0Gng27pq03lA"
      },
      "execution_count": 55,
      "outputs": []
    },
    {
      "cell_type": "code",
      "source": [
        "train_label_seq = tokenize_labels(labels, train_labels)\n",
        "val_label_seq = tokenize_labels(labels, val_labels)"
      ],
      "metadata": {
        "id": "QHuFy3DI06lW"
      },
      "execution_count": 56,
      "outputs": []
    },
    {
      "cell_type": "markdown",
      "source": [
        "The `create_model` defines the model that classifies each text as being part of a certain category. The model architecture is designed to achieve an accuracy of 95% for validation data."
      ],
      "metadata": {
        "id": "8u1Zt5SMaams"
      }
    },
    {
      "cell_type": "code",
      "source": [
        "def create_model(num_words, embedding_dim, maxlen):\n",
        "    \"\"\"\n",
        "    Creates a text classifier model\n",
        "\n",
        "    Args:\n",
        "        num_words (int): size of the vocabulary for the Embedding layer input\n",
        "        embedding_dim (int): dimensionality of the Embedding layer output\n",
        "        maxlen (int): length of the input sequences\n",
        "\n",
        "    Returns:\n",
        "        model (tf.keras Model): the text classifier model\n",
        "    \"\"\"\n",
        "\n",
        "    tf.random.set_seed(123)\n",
        "\n",
        "\n",
        "    model = tf.keras.Sequential([\n",
        "        tf.keras.layers.Embedding(num_words, embedding_dim, input_length=maxlen),\n",
        "        tf.keras.layers.GlobalAveragePooling1D(),\n",
        "        tf.keras.layers.Dense(24, activation='relu'),\n",
        "        tf.keras.layers.Dense(5, activation='sigmoid')\n",
        "    ])\n",
        "\n",
        "    model.compile(loss='sparse_categorical_crossentropy',\n",
        "                  optimizer='adam',\n",
        "                  metrics=['accuracy'])\n",
        "\n",
        "    return model"
      ],
      "metadata": {
        "id": "eVD_2VzG0_qB"
      },
      "execution_count": 57,
      "outputs": []
    },
    {
      "cell_type": "code",
      "source": [
        "model = create_model(NUM_WORDS, EMBEDDING_DIM, MAXLEN)\n",
        "\n",
        "history = model.fit(train_padded_seq, train_label_seq, epochs=40, validation_data=(val_padded_seq, val_label_seq))"
      ],
      "metadata": {
        "colab": {
          "base_uri": "https://localhost:8080/"
        },
        "id": "rj1Hgj_G1D-O",
        "outputId": "ff4af62c-5c9d-4e66-ac60-fcdfcc885054"
      },
      "execution_count": 58,
      "outputs": [
        {
          "output_type": "stream",
          "name": "stdout",
          "text": [
            "Epoch 1/40\n",
            "56/56 [==============================] - 1s 7ms/step - loss: 1.6004 - accuracy: 0.3112 - val_loss: 1.5881 - val_accuracy: 0.3124\n",
            "Epoch 2/40\n",
            "56/56 [==============================] - 0s 3ms/step - loss: 1.5641 - accuracy: 0.3854 - val_loss: 1.5378 - val_accuracy: 0.4742\n",
            "Epoch 3/40\n",
            "56/56 [==============================] - 0s 5ms/step - loss: 1.4832 - accuracy: 0.5039 - val_loss: 1.4337 - val_accuracy: 0.5573\n",
            "Epoch 4/40\n",
            "56/56 [==============================] - 0s 4ms/step - loss: 1.3337 - accuracy: 0.6326 - val_loss: 1.2618 - val_accuracy: 0.6809\n",
            "Epoch 5/40\n",
            "56/56 [==============================] - 0s 4ms/step - loss: 1.1286 - accuracy: 0.7590 - val_loss: 1.0582 - val_accuracy: 0.7933\n",
            "Epoch 6/40\n",
            "56/56 [==============================] - 0s 3ms/step - loss: 0.9147 - accuracy: 0.8573 - val_loss: 0.8648 - val_accuracy: 0.8831\n",
            "Epoch 7/40\n",
            "56/56 [==============================] - 0s 5ms/step - loss: 0.7205 - accuracy: 0.9129 - val_loss: 0.6969 - val_accuracy: 0.9169\n",
            "Epoch 8/40\n",
            "56/56 [==============================] - 0s 4ms/step - loss: 0.5582 - accuracy: 0.9427 - val_loss: 0.5639 - val_accuracy: 0.9146\n",
            "Epoch 9/40\n",
            "56/56 [==============================] - 0s 3ms/step - loss: 0.4320 - accuracy: 0.9506 - val_loss: 0.4635 - val_accuracy: 0.9303\n",
            "Epoch 10/40\n",
            "56/56 [==============================] - 0s 4ms/step - loss: 0.3371 - accuracy: 0.9640 - val_loss: 0.3902 - val_accuracy: 0.9326\n",
            "Epoch 11/40\n",
            "56/56 [==============================] - 0s 4ms/step - loss: 0.2715 - accuracy: 0.9691 - val_loss: 0.3410 - val_accuracy: 0.9326\n",
            "Epoch 12/40\n",
            "56/56 [==============================] - 0s 6ms/step - loss: 0.2245 - accuracy: 0.9736 - val_loss: 0.3059 - val_accuracy: 0.9393\n",
            "Epoch 13/40\n",
            "56/56 [==============================] - 0s 6ms/step - loss: 0.1898 - accuracy: 0.9775 - val_loss: 0.2820 - val_accuracy: 0.9393\n",
            "Epoch 14/40\n",
            "56/56 [==============================] - 0s 6ms/step - loss: 0.1629 - accuracy: 0.9781 - val_loss: 0.2612 - val_accuracy: 0.9438\n",
            "Epoch 15/40\n",
            "56/56 [==============================] - 0s 6ms/step - loss: 0.1415 - accuracy: 0.9798 - val_loss: 0.2446 - val_accuracy: 0.9393\n",
            "Epoch 16/40\n",
            "56/56 [==============================] - 0s 6ms/step - loss: 0.1244 - accuracy: 0.9815 - val_loss: 0.2323 - val_accuracy: 0.9438\n",
            "Epoch 17/40\n",
            "56/56 [==============================] - 0s 6ms/step - loss: 0.1095 - accuracy: 0.9843 - val_loss: 0.2228 - val_accuracy: 0.9461\n",
            "Epoch 18/40\n",
            "56/56 [==============================] - 0s 7ms/step - loss: 0.0976 - accuracy: 0.9860 - val_loss: 0.2170 - val_accuracy: 0.9506\n",
            "Epoch 19/40\n",
            "56/56 [==============================] - 0s 6ms/step - loss: 0.0876 - accuracy: 0.9871 - val_loss: 0.2091 - val_accuracy: 0.9483\n",
            "Epoch 20/40\n",
            "56/56 [==============================] - 0s 5ms/step - loss: 0.0777 - accuracy: 0.9916 - val_loss: 0.2028 - val_accuracy: 0.9483\n",
            "Epoch 21/40\n",
            "56/56 [==============================] - 0s 4ms/step - loss: 0.0704 - accuracy: 0.9921 - val_loss: 0.2021 - val_accuracy: 0.9506\n",
            "Epoch 22/40\n",
            "56/56 [==============================] - 0s 3ms/step - loss: 0.0631 - accuracy: 0.9966 - val_loss: 0.1949 - val_accuracy: 0.9506\n",
            "Epoch 23/40\n",
            "56/56 [==============================] - 0s 4ms/step - loss: 0.0571 - accuracy: 0.9961 - val_loss: 0.1940 - val_accuracy: 0.9506\n",
            "Epoch 24/40\n",
            "56/56 [==============================] - 0s 3ms/step - loss: 0.0515 - accuracy: 0.9972 - val_loss: 0.1894 - val_accuracy: 0.9506\n",
            "Epoch 25/40\n",
            "56/56 [==============================] - 0s 4ms/step - loss: 0.0467 - accuracy: 0.9978 - val_loss: 0.1882 - val_accuracy: 0.9506\n",
            "Epoch 26/40\n",
            "56/56 [==============================] - 0s 4ms/step - loss: 0.0422 - accuracy: 0.9989 - val_loss: 0.1863 - val_accuracy: 0.9506\n",
            "Epoch 27/40\n",
            "56/56 [==============================] - 0s 4ms/step - loss: 0.0384 - accuracy: 0.9989 - val_loss: 0.1869 - val_accuracy: 0.9506\n",
            "Epoch 28/40\n",
            "56/56 [==============================] - 0s 4ms/step - loss: 0.0351 - accuracy: 0.9989 - val_loss: 0.1824 - val_accuracy: 0.9506\n",
            "Epoch 29/40\n",
            "56/56 [==============================] - 0s 5ms/step - loss: 0.0318 - accuracy: 0.9989 - val_loss: 0.1830 - val_accuracy: 0.9506\n",
            "Epoch 30/40\n",
            "56/56 [==============================] - 0s 4ms/step - loss: 0.0291 - accuracy: 0.9994 - val_loss: 0.1800 - val_accuracy: 0.9506\n",
            "Epoch 31/40\n",
            "56/56 [==============================] - 0s 3ms/step - loss: 0.0266 - accuracy: 0.9994 - val_loss: 0.1809 - val_accuracy: 0.9483\n",
            "Epoch 32/40\n",
            "56/56 [==============================] - 0s 4ms/step - loss: 0.0243 - accuracy: 0.9994 - val_loss: 0.1797 - val_accuracy: 0.9528\n",
            "Epoch 33/40\n",
            "56/56 [==============================] - 0s 4ms/step - loss: 0.0223 - accuracy: 0.9994 - val_loss: 0.1791 - val_accuracy: 0.9528\n",
            "Epoch 34/40\n",
            "56/56 [==============================] - 0s 4ms/step - loss: 0.0205 - accuracy: 0.9994 - val_loss: 0.1773 - val_accuracy: 0.9506\n",
            "Epoch 35/40\n",
            "56/56 [==============================] - 0s 4ms/step - loss: 0.0190 - accuracy: 0.9994 - val_loss: 0.1788 - val_accuracy: 0.9528\n",
            "Epoch 36/40\n",
            "56/56 [==============================] - 0s 3ms/step - loss: 0.0174 - accuracy: 1.0000 - val_loss: 0.1782 - val_accuracy: 0.9528\n",
            "Epoch 37/40\n",
            "56/56 [==============================] - 0s 5ms/step - loss: 0.0161 - accuracy: 1.0000 - val_loss: 0.1775 - val_accuracy: 0.9506\n",
            "Epoch 38/40\n",
            "56/56 [==============================] - 0s 4ms/step - loss: 0.0149 - accuracy: 1.0000 - val_loss: 0.1780 - val_accuracy: 0.9528\n",
            "Epoch 39/40\n",
            "56/56 [==============================] - 0s 3ms/step - loss: 0.0138 - accuracy: 1.0000 - val_loss: 0.1771 - val_accuracy: 0.9506\n",
            "Epoch 40/40\n",
            "56/56 [==============================] - 0s 3ms/step - loss: 0.0128 - accuracy: 1.0000 - val_loss: 0.1781 - val_accuracy: 0.9528\n"
          ]
        }
      ]
    },
    {
      "cell_type": "markdown",
      "source": [
        " You can run the following cell to check the training and validation accuracy achieved at the end of each epoch."
      ],
      "metadata": {
        "id": "7YcX06khayms"
      }
    },
    {
      "cell_type": "code",
      "source": [
        "def plot_graphs(history, metric):\n",
        "    plt.plot(history.history[metric])\n",
        "    plt.plot(history.history[f'val_{metric}'])\n",
        "    plt.xlabel(\"Epochs\")\n",
        "    plt.ylabel(metric)\n",
        "    plt.legend([metric, f'val_{metric}'])\n",
        "    plt.show()\n",
        "\n",
        "plot_graphs(history, \"accuracy\")\n",
        "plot_graphs(history, \"loss\")"
      ],
      "metadata": {
        "colab": {
          "base_uri": "https://localhost:8080/",
          "height": 881
        },
        "id": "IVGbdiYQa1OB",
        "outputId": "7249ff4b-8580-4f16-b7a5-fa40a355b2c4"
      },
      "execution_count": 59,
      "outputs": [
        {
          "output_type": "display_data",
          "data": {
            "text/plain": [
              "<Figure size 640x480 with 1 Axes>"
            ],
            "image/png": "[encoded data removed]"
          },
          "metadata": {}
        },
        {
          "output_type": "display_data",
          "data": {
            "text/plain": [
              "<Figure size 640x480 with 1 Axes>"
            ],
            "image/png": "[encoded data removed]"
          },
          "metadata": {}
        }
      ]
    },
    {
      "cell_type": "markdown",
      "source": [
        "# Visualizing 3D Vectors\n",
        "You can visualize the vectors associated with each word in the training set in a 3D space.\n",
        "\n",
        "For this run the following cells and visit [Tensorflow's Embedding Projector](https://projector.tensorflow.org/)."
      ],
      "metadata": {
        "id": "xMav-qNwb0XT"
      }
    },
    {
      "cell_type": "code",
      "source": [
        "# Reverse word index\n",
        "reverse_word_index = dict([(value, key) for (key, value) in word_index.items()])\n",
        "\n",
        "# Save the embedding layer\n",
        "e = model.layers[0]\n",
        "\n",
        "# Save the weights of the embedding layer\n",
        "weights = e.get_weights()[0]\n",
        "print(f\"Weights of embedding layer have shape: {weights.shape}\")"
      ],
      "metadata": {
        "colab": {
          "base_uri": "https://localhost:8080/"
        },
        "id": "YfrPzquRb-V6",
        "outputId": "dc6a5e95-3718-41e3-dbb3-b5f53b49c737"
      },
      "execution_count": 62,
      "outputs": [
        {
          "output_type": "stream",
          "name": "stdout",
          "text": [
            "Weights of embedding layer have shape: (1000, 16)\n"
          ]
        }
      ]
    },
    {
      "cell_type": "markdown",
      "source": [
        " Run the following cell to generate the `vecs.tsv` and `meta.tsv` files that you will upload to the embedding projector."
      ],
      "metadata": {
        "id": "fZy5Kqs4cGUy"
      }
    },
    {
      "cell_type": "code",
      "source": [
        "# Generate files for embedding visualization\n",
        "out_v = io.open('vecs.tsv', 'w', encoding='utf-8')\n",
        "out_m = io.open('meta.tsv', 'w', encoding='utf-8')\n",
        "for word_num in range(1, NUM_WORDS):\n",
        "    word = reverse_word_index[word_num]\n",
        "    embeddings = weights[word_num]\n",
        "    out_m.write(word + \"\\n\")\n",
        "    out_v.write('\\t'.join([str(x) for x in embeddings]) + \"\\n\")\n",
        "out_v.close()\n",
        "out_m.close()"
      ],
      "metadata": {
        "id": "6Dpfa-MRcIG7"
      },
      "execution_count": 65,
      "outputs": []
    },
    {
      "cell_type": "markdown",
      "source": [
        "By running the previous cell, these files are placed within your filesystem. To download them, click on the file icon on the upper-left side of the screen. This will take you to the Google Colab filesystem, and there you can download the files by clicking on the vertical ellipsis and then clicking on the Download button."
      ],
      "metadata": {
        "id": "kbkhsVnahgc3"
      }
    }
  ]
}